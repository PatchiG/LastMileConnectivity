{
	"metadata": {
		"kernelspec": {
			"name": "glue_pyspark",
			"display_name": "Glue PySpark",
			"language": "python"
		},
		"language_info": {
			"name": "Python_Glue_Session",
			"mimetype": "text/x-python",
			"codemirror_mode": {
				"name": "python",
				"version": 3
			},
			"pygments_lexer": "python3",
			"file_extension": ".py"
		}
	},
	"nbformat_minor": 4,
	"nbformat": 4,
	"cells": [
		{
			"cell_type": "markdown",
			"source": "# AWS Glue Studio Notebook\n##### You are now running a AWS Glue Studio notebook; To start using your notebook you need to start an AWS Glue Interactive Session.\n",
			"metadata": {
				"editable": true,
				"trusted": true
			}
		},
		{
			"cell_type": "markdown",
			"source": "####  Run this cell to set up and start your interactive session.\n",
			"metadata": {
				"editable": true,
				"trusted": true
			}
		},
		{
			"cell_type": "code",
			"source": "%idle_timeout 2880\n%glue_version 4.0\n%worker_type G.1X\n%number_of_workers 5\n\nimport sys\nfrom awsglue.transforms import *\nfrom awsglue.utils import getResolvedOptions\nfrom pyspark.context import SparkContext\nfrom awsglue.context import GlueContext\nfrom awsglue.job import Job\n  \nsc = SparkContext.getOrCreate()\nglueContext = GlueContext(sc)\nspark = glueContext.spark_session\njob = Job(glueContext)",
			"metadata": {
				"trusted": true,
				"editable": true
			},
			"execution_count": 1,
			"outputs": [
				{
					"name": "stdout",
					"text": "Welcome to the Glue Interactive Sessions Kernel\nFor more information on available magic commands, please type %help in any new cell.\n\nPlease view our Getting Started page to access the most up-to-date information on the Interactive Sessions kernel: https://docs.aws.amazon.com/glue/latest/dg/interactive-sessions.html\nInstalled kernel version: 1.0.7 \nCurrent idle_timeout is None minutes.\nidle_timeout has been set to 2880 minutes.\nSetting Glue version to: 4.0\nPrevious worker type: None\nSetting new worker type to: G.1X\nPrevious number of workers: None\nSetting new number of workers to: 5\nTrying to create a Glue session for the kernel.\nSession Type: glueetl\nWorker Type: G.1X\nNumber of Workers: 5\nIdle Timeout: 2880\nSession ID: dda01b26-dea3-477d-8e94-24b339ebb7e9\nApplying the following default arguments:\n--glue_kernel_version 1.0.7\n--enable-glue-datacatalog true\nWaiting for session dda01b26-dea3-477d-8e94-24b339ebb7e9 to get into ready status...\nSession dda01b26-dea3-477d-8e94-24b339ebb7e9 has been created.\n\n",
					"output_type": "stream"
				}
			]
		},
		{
			"cell_type": "markdown",
			"source": "Creating Glue Data Catalog Tables",
			"metadata": {}
		},
		{
			"cell_type": "code",
			"source": "import boto3\nfrom datetime import datetime",
			"metadata": {
				"trusted": true,
				"tags": []
			},
			"execution_count": 2,
			"outputs": [
				{
					"name": "stdout",
					"text": "\n",
					"output_type": "stream"
				}
			]
		},
		{
			"cell_type": "code",
			"source": "# Initialize a session using AWS Glue\nglue_client = boto3.client('glue', region_name='us-east-1')\n",
			"metadata": {
				"trusted": true,
				"tags": []
			},
			"execution_count": 3,
			"outputs": [
				{
					"name": "stdout",
					"text": "\n",
					"output_type": "stream"
				}
			]
		},
		{
			"cell_type": "code",
			"source": "# Step 1: Create a Glue Database (if it doesn't exist)\ndatabase_name = \"bikeshare_data\"\ntry:\n    glue_client.create_database(DatabaseInput={'Name': database_name})\n    print(f\"Database '{database_name}' created.\")\nexcept glue_client.exceptions.AlreadyExistsException:\n    print(f\"Database '{database_name}' already exists.\")",
			"metadata": {
				"trusted": true,
				"tags": []
			},
			"execution_count": 4,
			"outputs": [
				{
					"name": "stdout",
					"text": "{'ResponseMetadata': {'RequestId': '2e2ecea8-ef0e-4bca-9393-9d7b870e35a7', 'HTTPStatusCode': 200, 'HTTPHeaders': {'date': 'Mon, 02 Dec 2024 05:30:59 GMT', 'content-type': 'application/x-amz-json-1.1', 'content-length': '2', 'connection': 'keep-alive', 'x-amzn-requestid': '2e2ecea8-ef0e-4bca-9393-9d7b870e35a7', 'cache-control': 'no-cache'}, 'RetryAttempts': 0}}\nDatabase 'bikeshare_data' created.\n",
					"output_type": "stream"
				}
			]
		},
		{
			"cell_type": "code",
			"source": "# Step 2: Create Glue Table for capital_rideshare_combined.csv\ntable_name_1 = \"capital_rideshare_combined\"\ncolumns_1 = [\n    {\"Name\": \"ride_id\", \"Type\": \"string\"},\n    {\"Name\": \"rideable_type\", \"Type\": \"string\"},\n    {\"Name\": \"started_at\", \"Type\": \"timestamp\"},\n    {\"Name\": \"ended_at\", \"Type\": \"timestamp\"},\n    {\"Name\": \"start_station_name\", \"Type\": \"string\"},\n    {\"Name\": \"start_station_id\", \"Type\": \"int\"},\n    {\"Name\": \"end_station_name\", \"Type\": \"string\"},\n    {\"Name\": \"end_station_id\", \"Type\": \"int\"},\n    {\"Name\": \"start_lat\", \"Type\": \"double\"},\n    {\"Name\": \"start_lng\", \"Type\": \"double\"},\n    {\"Name\": \"end_lat\", \"Type\": \"double\"},\n    {\"Name\": \"end_lng\", \"Type\": \"double\"},\n    {\"Name\": \"member_casual\", \"Type\": \"string\"},\n    {\"Name\": \"year\", \"Type\": \"int\"},\n    {\"Name\": \"month\", \"Type\": \"int\"}\n]\n",
			"metadata": {
				"trusted": true,
				"tags": []
			},
			"execution_count": 5,
			"outputs": [
				{
					"name": "stdout",
					"text": "\n",
					"output_type": "stream"
				}
			]
		},
		{
			"cell_type": "code",
			"source": "# Define the S3 location where the file is stored\ns3_path_1 = \"s3://capitalbikesharedata/capital_rideshare_combined.csv\"",
			"metadata": {
				"trusted": true,
				"tags": []
			},
			"execution_count": 6,
			"outputs": [
				{
					"name": "stdout",
					"text": "\n",
					"output_type": "stream"
				}
			]
		},
		{
			"cell_type": "code",
			"source": "# Create Glue table for capital_rideshare_combined\nglue_client.create_table(\n    DatabaseName=database_name,\n    TableInput={\n        'Name': table_name_1,\n        'StorageDescriptor': {\n            'Columns': columns_1,\n            'Location': s3_path_1,\n            'InputFormat': 'org.apache.hadoop.mapred.TextInputFormat',\n            'OutputFormat': 'org.apache.hadoop.hive.ql.io.HiveIgnoreKeyTextOutputFormat',\n            'SerdeInfo': {\n                'Name': 'CSVSerde',\n                'SerializationLibrary': 'org.apache.hadoop.hive.serde2.OpenCSVSerde',\n                'Parameters': {\n                    'separatorChar': ',',\n                    'quoteChar': '\"'\n                }\n            },\n            'Compressed': False,\n            'NumberOfBuckets': -1\n        },\n        'PartitionKeys': [],\n        'TableType': 'EXTERNAL_TABLE',\n    }\n)\n\nprint(f\"Table '{table_name_1}' created in the Glue Catalog.\")\n",
			"metadata": {
				"trusted": true,
				"tags": []
			},
			"execution_count": 7,
			"outputs": [
				{
					"name": "stdout",
					"text": "Table 'capital_rideshare_combined' created in the Glue Catalog.\n",
					"output_type": "stream"
				}
			]
		},
		{
			"cell_type": "code",
			"source": "# Step 3: Create Glue Table for placemarks_data.csv\ntable_name_2 = \"placemarks_data\"\ncolumns_2 = [\n    {\"Name\": \"id\", \"Type\": \"string\"},\n    {\"Name\": \"networkName\", \"Type\": \"string\"},\n    {\"Name\": \"networkId\", \"Type\": \"int\"},\n    {\"Name\": \"color\", \"Type\": \"string\"},\n    {\"Name\": \"textColor\", \"Type\": \"string\"},\n    {\"Name\": \"latitude\", \"Type\": \"double\"},\n    {\"Name\": \"longitude\", \"Type\": \"double\"},\n    {\"Name\": \"type\", \"Type\": \"string\"},\n    {\"Name\": \"location\", \"Type\": \"string\"}\n]",
			"metadata": {
				"trusted": true,
				"tags": []
			},
			"execution_count": 8,
			"outputs": [
				{
					"name": "stdout",
					"text": "\n",
					"output_type": "stream"
				}
			]
		},
		{
			"cell_type": "code",
			"source": "# Define the S3 location where the file is stored\ns3_path_2 = \"s3://capitalbikesharedata/placemarks_data.csv\"",
			"metadata": {
				"trusted": true,
				"tags": []
			},
			"execution_count": 9,
			"outputs": [
				{
					"name": "stdout",
					"text": "\n",
					"output_type": "stream"
				}
			]
		},
		{
			"cell_type": "code",
			"source": "# Create Glue table for placemarks_data\nglue_client.create_table(\n    DatabaseName=database_name,\n    TableInput={\n        'Name': table_name_2,\n        'StorageDescriptor': {\n            'Columns': columns_2,\n            'Location': s3_path_2,\n            'InputFormat': 'org.apache.hadoop.mapred.TextInputFormat',\n            'OutputFormat': 'org.apache.hadoop.hive.ql.io.HiveIgnoreKeyTextOutputFormat',\n            'SerdeInfo': {\n                'Name': 'CSVSerde',\n                'SerializationLibrary': 'org.apache.hadoop.hive.serde2.OpenCSVSerde',\n                'Parameters': {\n                    'separatorChar': ',',\n                    'quoteChar': '\"'\n                }\n            },\n            'Compressed': False,\n            'NumberOfBuckets': -1\n        },\n        'PartitionKeys': [],\n        'TableType': 'EXTERNAL_TABLE',\n    }\n)\n\nprint(f\"Table '{table_name_2}' created in the Glue Catalog.\")",
			"metadata": {
				"trusted": true,
				"tags": []
			},
			"execution_count": 10,
			"outputs": [
				{
					"name": "stdout",
					"text": "Table 'placemarks_data' created in the Glue Catalog.\n",
					"output_type": "stream"
				}
			]
		},
		{
			"cell_type": "code",
			"source": "",
			"metadata": {},
			"execution_count": null,
			"outputs": []
		}
	]
}